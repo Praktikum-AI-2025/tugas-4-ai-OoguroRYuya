{
 "cells": [
  {
   "cell_type": "code",
   "execution_count": null,
   "id": "e4585a4b",
   "metadata": {
    "vscode": {
     "languageId": "plaintext"
    }
   },
   "outputs": [],
   "source": [
    "import urllib.request\n",
    "import zipfile\n",
    "import tensorflow as tf\n",
    "import os\n",
    "from keras_preprocessing.image import ImageDataGenerator\n",
    "from tensorflow.keras.optimizers import RMSprop"
   ]
  },
  {
   "cell_type": "code",
   "execution_count": null,
   "id": "dd5ea039",
   "metadata": {
    "vscode": {
     "languageId": "plaintext"
    }
   },
   "outputs": [],
   "source": [
    "# Cell 2: Download and extract datasets\n",
    "def download_and_extract_data():\n",
    "    # Training data\n",
    "    data_url_1 = 'https://github.com/dicodingacademy/assets/releases/download/release-horse-or-human/horse-or-human.zip'\n",
    "    urllib.request.urlretrieve(data_url_1, 'horse-or-human.zip')\n",
    "    local_file = 'horse-or-human.zip'\n",
    "    zip_ref = zipfile.ZipFile(local_file, 'r')\n",
    "    zip_ref.extractall('data/horse-or-human')\n",
    "    \n",
    "    # Validation data\n",
    "    data_url_2 = 'https://github.com/dicodingacademy/assets/raw/main/Simulation/machine_learning/validation-horse-or-human.zip'\n",
    "    urllib.request.urlretrieve(data_url_2, 'validation-horse-or-human.zip')\n",
    "    local_file = 'validation-horse-or-human.zip'\n",
    "    zip_ref = zipfile.ZipFile(local_file, 'r')\n",
    "    zip_ref.extractall('data/validation-horse-or-human')\n",
    "    zip_ref.close()\n",
    "\n",
    "download_and_extract_data()"
   ]
  },
  {
   "cell_type": "code",
   "execution_count": null,
   "id": "ff653cf5",
   "metadata": {
    "vscode": {
     "languageId": "plaintext"
    }
   },
   "outputs": [],
   "source": [
    "# Cell 3: Set up data generators\n",
    "TRAINING_DIR = 'data/horse-or-human'\n",
    "VALIDATION_DIR = 'data/validation-horse-or-human'\n",
    "\n",
    "train_datagen = ImageDataGenerator(\n",
    "    rescale=1/255,\n",
    "    rotation_range=40,\n",
    "    horizontal_flip=True,\n",
    "    shear_range=0.2,\n",
    "    zoom_range=0.2,\n",
    "    fill_mode='nearest'\n",
    ")\n",
    "\n",
    "train_generator = train_datagen.flow_from_directory(\n",
    "    TRAINING_DIR,\n",
    "    target_size=(150, 150),\n",
    "    batch_size=32,\n",
    "    class_mode='binary'\n",
    ")\n",
    "\n",
    "validation_datagen = ImageDataGenerator(rescale=1/255)\n",
    "\n",
    "validation_generator = validation_datagen.flow_from_directory(\n",
    "    VALIDATION_DIR,\n",
    "    target_size=(150, 150),\n",
    "    batch_size=32,\n",
    "    class_mode='binary"
   ]
  },
  {
   "cell_type": "code",
   "execution_count": null,
   "id": "8b2666bb",
   "metadata": {
    "vscode": {
     "languageId": "plaintext"
    }
   },
   "outputs": [],
   "source": [
    "# Cell 4: Build the model\n",
    "def solution_05():\n",
    "    model = tf.keras.models.Sequential([\n",
    "        tf.keras.layers.Conv2D(16, (3,3), activation='relu', input_shape=(150, 150, 3)),\n",
    "        tf.keras.layers.MaxPooling2D(2,2),\n",
    "        tf.keras.layers.Conv2D(32, (3,3), activation='relu'),\n",
    "        tf.keras.layers.MaxPooling2D(2,2),\n",
    "        tf.keras.layers.Conv2D(64, (3,3), activation='relu'),\n",
    "        tf.keras.layers.MaxPooling2D(2,2),\n",
    "        tf.keras.layers.Flatten(),\n",
    "        tf.keras.layers.Dense(512, activation='relu'),\n",
    "        tf.keras.layers.Dense(1, activation='sigmoid')\n",
    "    ])\n",
    "    \n",
    "    return model\n",
    "\n",
    "model = solution_05()"
   ]
  },
  {
   "cell_type": "code",
   "execution_count": null,
   "id": "2243fee3",
   "metadata": {
    "vscode": {
     "languageId": "plaintext"
    }
   },
   "outputs": [],
   "source": [
    "# Cell 5: Compile and train the model\n",
    "model.compile(optimizer=RMSprop(learning_rate=0.001),\n",
    "             loss='binary_crossentropy',\n",
    "             metrics=['accuracy'])\n",
    "\n",
    "history = model.fit(\n",
    "    train_generator,\n",
    "    epochs=15,\n",
    "    validation_data=validation_generator\n",
    ")"
   ]
  },
  {
   "cell_type": "code",
   "execution_count": null,
   "id": "f21159b1",
   "metadata": {
    "vscode": {
     "languageId": "plaintext"
    }
   },
   "outputs": [],
   "source": [
    "# Cell 6: Save the model\n",
    "model.save(\"model_05.h5\")"
   ]
  },
  {
   "cell_type": "code",
   "execution_count": null,
   "id": "e1747f02",
   "metadata": {
    "vscode": {
     "languageId": "plaintext"
    }
   },
   "outputs": [],
   "source": [
    "# Cell 7: Verify the accuracy (optional)\n",
    "train_acc = history.history['accuracy'][-1]\n",
    "val_acc = history.history['val_accuracy'][-1]\n",
    "\n",
    "print(f\"Training Accuracy: {train_acc*100:.2f}%\")\n",
    "print(f\"Validation Accuracy: {val_acc*100:.2f}%\")\n",
    "\n",
    "if train_acc > 0.83 and val_acc > 0.83:\n",
    "    print(\"Model meets the required standards!\")\n",
    "else:\n",
    "    print(\"Model needs improvement to meet the standards.\")"
   ]
  }
 ],
 "metadata": {
  "language_info": {
   "name": "python"
  }
 },
 "nbformat": 4,
 "nbformat_minor": 5
}
